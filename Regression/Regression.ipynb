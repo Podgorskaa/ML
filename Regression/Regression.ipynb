{
 "cells": [
  {
   "cell_type": "code",
   "execution_count": 174,
   "id": "0e9dd840",
   "metadata": {},
   "outputs": [],
   "source": [
    "import numpy as np\n",
    "import matplotlib.pyplot as plt\n",
    "import copy\n",
    "from sklearn.linear_model import LinearRegression"
   ]
  },
  {
   "cell_type": "markdown",
   "id": "f46fd460",
   "metadata": {},
   "source": [
    "## Multiple linear regression\n",
    "Cost formula: $$ J(\\vec{w},b)=\\frac1{2m} \\sum_{i=1}^{m}[f_{\\vec{w},b}(\\vec{x}^{(i)})-y^{(i)}]^2$$\n",
    "Model formula: $$ f_{\\vec{w},b}(\\vec{x})=\\vec{w} \\cdot \\vec{x}+b $$\n"
   ]
  },
  {
   "cell_type": "code",
   "execution_count": 162,
   "id": "f305b053",
   "metadata": {},
   "outputs": [],
   "source": [
    "def cost_function(X, y, w, b):\n",
    "    \"\"\"\n",
    "    Computes the cost function for multiple linear regression\n",
    "    \n",
    "    \"\"\"\n",
    "    m = X.shape[0]\n",
    "    cost = 0\n",
    "    for i in range(m):\n",
    "        f_xi = np.dot(X[i],w)+b\n",
    "        cost = cost + (f_xi - y[i])**2\n",
    "    cost = cost/(2*m)\n",
    "    return cost"
   ]
  },
  {
   "cell_type": "markdown",
   "id": "b01d3d36",
   "metadata": {},
   "source": [
    "Gradient descent algorihm: $$ w=w-\\alpha\\frac{\\partial}{\\partial{w}}J(\\vec{w},b)=\\frac1m \\sum_{i=1}^{m}[f_{\\vec{w},b}(\\vec{x}^{(i)})-y^{(i)}]x_j^{(i)}$$\n",
    "$$ b=b-\\alpha\\frac{\\partial}{\\partial{b}}J(w,b)=\\frac1m \\sum_{i=1}^{m}[f_{\\vec{w},b}(\\vec{x}^{(i)})-y^{(i)}]$$"
   ]
  },
  {
   "cell_type": "code",
   "execution_count": 163,
   "id": "3bd6ca56",
   "metadata": {},
   "outputs": [],
   "source": [
    "def compute_gradient_descent(X, y, w, b):\n",
    "    \"\"\"\n",
    "    Computes the gradient for multiple linear regression\n",
    "    \n",
    "    \"\"\"\n",
    "    m,n = X.shape\n",
    "    dj_dw = np.zeros((n,))\n",
    "    dj_db = 0\n",
    "    \n",
    "    for i in range(m):\n",
    "        f_xi_y = (np.dot(X[i],w)+b) - y[i]   \n",
    "        for j in range(n):\n",
    "            dj_dw[j] += (f_xi_y * X[i,j])\n",
    "        dj_db += f_xi_y\n",
    "    \n",
    "    dj_dw = dj_dw/m\n",
    "    dj_db = dj_db/m\n",
    "    \n",
    "    return dj_dw, dj_db    "
   ]
  },
  {
   "cell_type": "code",
   "execution_count": 164,
   "id": "2b66a1c0",
   "metadata": {},
   "outputs": [],
   "source": [
    "def gradient_descent(X, y, w_in, b_in, alpha, num_iters):\n",
    "    \"\"\"\n",
    "    Performs batch gradient descent to learn theta. Updates theta by taking \n",
    "    num_iters gradient steps with learning rate alpha.\n",
    "    \n",
    "    \"\"\"\n",
    "    w = copy.deepcopy(w_in)\n",
    "    b = b_in\n",
    "    \n",
    "    for i in range(num_iters):\n",
    "        dj_dw, dj_db = compute_gradient_descent(X, y, w, b)\n",
    "        w = w - alpha * dj_dw\n",
    "        b = b - alpha * dj_db\n",
    "        \n",
    "    return w,b"
   ]
  },
  {
   "cell_type": "code",
   "execution_count": 339,
   "id": "806cd420",
   "metadata": {},
   "outputs": [],
   "source": [
    "#random data\n",
    "X_train = np.array([[1.0, 10,1.5], [2.0, 20,2], [8.0,70,2.75]])\n",
    "y_train = np.array([10, 15, 30])"
   ]
  },
  {
   "cell_type": "code",
   "execution_count": 340,
   "id": "1196a2d8",
   "metadata": {},
   "outputs": [
    {
     "data": {
      "image/png": "[encoded data removed]",
      "text/plain": [
       "<Figure size 640x480 with 3 Axes>"
      ]
     },
     "metadata": {},
     "output_type": "display_data"
    }
   ],
   "source": [
    "fig, axs = plt.subplots(3)\n",
    "fig.suptitle('Labels (y) and Features (x)')\n",
    "\n",
    "for i in range(3):\n",
    "    axs[i].scatter(X_train[:, i], y_train, marker='x',c='r')\n",
    "    axs[i].plot(X_train[:, i], y_train,c='b')\n",
    "\n",
    "plt.show()"
   ]
  },
  {
   "cell_type": "code",
   "execution_count": 265,
   "id": "e23c53e7",
   "metadata": {},
   "outputs": [
    {
     "name": "stdout",
     "output_type": "stream",
     "text": [
      "num_iters: 1000\n",
      "w:  [-0.42536862  0.36590371  2.49324508]\n",
      "b:  1.666521668802541\n",
      "cost:  0.9866994105650773\n",
      "\n",
      "num_iters: 100000\n",
      "w:  [-1.505021    0.42263212  4.05391489]\n",
      "b:  1.325035919546418\n",
      "cost:  0.005332137747120872\n",
      "\n",
      "labels:  [10 15 30]\n",
      "My algorithm predictions:  [10.12720846 14.8754661  30.01738226]\n",
      "LinearRegression:  [10. 15. 30.]\n",
      "\n",
      "My predictions for:  [[ 5.   30.    1.75]]\n",
      "[13.57324558]\n",
      "LinearRegression:  [11.92599909]\n"
     ]
    }
   ],
   "source": [
    "#predictions\n",
    "alpha = 0.001\n",
    "w_in = np.zeros([X_train.shape[0]])\n",
    "b_in = 0\n",
    "\n",
    "w,b = gradient_descent(X_train, y_train, w_in, b_in, alpha, 1000)\n",
    "print(\"num_iters: 1000\")\n",
    "print(\"w: \",w)\n",
    "print(\"b: \", b)\n",
    "print(\"cost: \", cost_function(X_train,y_train,w,b))\n",
    "w,b = gradient_descent(X_train, y_train, w_in, b_in, alpha, 100000)\n",
    "\n",
    "print(\"\\nnum_iters: 100000\")\n",
    "print(\"w: \",w)\n",
    "print(\"b: \", b)\n",
    "print(\"cost: \", cost_function(X_train,y_train,w,b))\n",
    "\n",
    "predict = np.dot(X_train,w)+b\n",
    "\n",
    "print(\"\\nlabels: \", y_train)\n",
    "print(\"My algorithm predictions: \", predict)\n",
    "\n",
    "lr = LinearRegression()\n",
    "lr.fit(X_train, y_train)\n",
    "predict_lr = lr.predict(X_train)\n",
    "\n",
    "print(\"LinearRegression: \",predict_lr)\n",
    "x = np.array([[5,30,1.75]])\n",
    "\n",
    "print(\"\\nMy predictions for: \", x)\n",
    "print(np.dot(x,w)+b)\n",
    "print(\"LinearRegression: \",lr.predict(x))"
   ]
  },
  {
   "cell_type": "markdown",
   "id": "7b6d1a17",
   "metadata": {},
   "source": [
    "##### Perfect predictions for data that we used to train our algorithm. Too little data to predict well based on features that didn't include in X_train."
   ]
  },
  {
   "cell_type": "markdown",
   "id": "072022d9",
   "metadata": {},
   "source": [
    "## Logistic Regression\n",
    "Model formula: $$f_{\\vec{w},b}(\\vec{x})=g(\\vec{w}\\cdot\\vec{x}+b)=\\frac1{1+e^{(\\vec{w}\\cdot\\vec{x}+b)}}$$\n",
    "Cost formula: $$ J(\\vec{w},b)=-\\frac1m \\sum_{i=1}^{m}[y^{(i)}\\log(f_{\\vec{w},b}(\\vec{x}^{(i)}))+(1-y^{(i)})\\log(1-f_{\\vec{w},b}(\\vec{x}^{(i)}))] $$"
   ]
  },
  {
   "cell_type": "code",
   "execution_count": 209,
   "id": "2b82302d",
   "metadata": {},
   "outputs": [],
   "source": [
    "def sigmoid(z):\n",
    "    return 1/(1+np.exp(-z))"
   ]
  },
  {
   "cell_type": "code",
   "execution_count": 211,
   "id": "f011a8e9",
   "metadata": {},
   "outputs": [],
   "source": [
    "def cost_function_logistic(X,y,w,b):\n",
    "    \"\"\"\n",
    "    Computes the cost function for logistic regression\n",
    "    \n",
    "    \"\"\"\n",
    "    m = X.shape[0]\n",
    "    cost = 0\n",
    "    \n",
    "    for i in range(m):\n",
    "        z_i = np.dot(X[i],w)+b\n",
    "        f_xi = sigmoid(z_i)\n",
    "        cost += (-y[i]*np.log(f_xi))-((1-y[i])*np.log(1-f_xi))\n",
    "    cost = cost/m\n",
    "    return cost"
   ]
  },
  {
   "cell_type": "markdown",
   "id": "0f4a5f42",
   "metadata": {},
   "source": [
    "Gradient descent: $$ w=w-\\alpha[\\frac1m \\sum_{i=1}^{m}(f_{\\vec{w},b}(\\vec{x}^{(i)})-y^{(i)})x_j^{(i)}]$$\n",
    "$$ b=b-\\alpha[\\frac1m \\sum_{i=1}^{m}(f_{\\vec{w},b}(\\vec{x}^{(i)})-y^{(i)})]$$\n",
    "Model formula: $$f_{\\vec{w},b}(\\vec{x})=\\frac1{1+e^{(\\vec{w}\\cdot\\vec{x}+b)}}$$"
   ]
  },
  {
   "cell_type": "code",
   "execution_count": 303,
   "id": "8e26dd32",
   "metadata": {},
   "outputs": [],
   "source": [
    "def compute_gradient_logistic(X,y,w,b):\n",
    "    \"\"\"\n",
    "    Computes the gradient for logistic regression\n",
    "    \n",
    "    \"\"\"\n",
    "    m,n = X.shape\n",
    "    dj_dw = np.zeros((n,))\n",
    "    dj_db = 0\n",
    "    \n",
    "    for i in range(m):\n",
    "        f_xi_y = sigmoid(np.dot(X[i],w)+b) - y[i]\n",
    "        for j in range(n):\n",
    "            dj_dw[j] += f_xi_y * X[i,j]\n",
    "        dj_db += f_xi_y\n",
    "    \n",
    "    dj_dw = dj_dw/m\n",
    "    dj_db = dj_db/m\n",
    "    \n",
    "    return dj_dw, dj_db"
   ]
  },
  {
   "cell_type": "code",
   "execution_count": 304,
   "id": "06b30bb1",
   "metadata": {},
   "outputs": [],
   "source": [
    "def gradient_descent_logistic(X,y,w_in,b_in,alpha,num_iters):\n",
    "    w = copy.deepcopy(w_in)\n",
    "    b = b_in\n",
    "    \n",
    "    for i in range(num_iters):\n",
    "        dj_dw, dj_db = compute_gradient_logistic(X,y,w,b)\n",
    "        w = w - alpha * dj_dw\n",
    "        b = b - alpha * dj_db\n",
    "    return w,b"
   ]
  },
  {
   "cell_type": "code",
   "execution_count": 377,
   "id": "f616bc9c",
   "metadata": {},
   "outputs": [],
   "source": [
    "#random data\n",
    "X_train_l = np.array([[0.5, 1.5], [1,1], [1.5, 0.5], [3, 0.5], [2, 2], [1, 2.5]])\n",
    "y_train_l = np.array([0, 0, 0, 1, 1, 1])"
   ]
  },
  {
   "cell_type": "code",
   "execution_count": 392,
   "id": "25b90a3d",
   "metadata": {},
   "outputs": [
    {
     "name": "stdout",
     "output_type": "stream",
     "text": [
      "[[0.5 1.  1.5 3.  2.  1. ]\n",
      " [1.5 1.  0.5 0.5 2.  2.5]]\n"
     ]
    },
    {
     "data": {
      "image/png": "[encoded data removed]",
      "text/plain": [
       "<Figure size 640x480 with 1 Axes>"
      ]
     },
     "metadata": {},
     "output_type": "display_data"
    }
   ],
   "source": [
    "x = X_train_l.transpose()\n",
    "print(x)\n",
    "\n",
    "plt.scatter(x[1],y_train_l,marker=\"x\",c=\"r\")\n",
    "plt.scatter(x[0],y_train_l,marker=\"|\",c=\"b\")\n",
    "\n",
    "plt.show()"
   ]
  },
  {
   "cell_type": "code",
   "execution_count": 390,
   "id": "62a60b90",
   "metadata": {},
   "outputs": [
    {
     "name": "stdout",
     "output_type": "stream",
     "text": [
      "num_iters: 10000\n",
      "w:  [5.28123029 5.07815608]\n",
      "b:  -14.222409982019837\n",
      "cost:  0.017117768890292925\n",
      "num_iters: 100000\n",
      "w:  [8.35313087 8.15226727]\n",
      "b:  -22.690605796630248\n",
      "cost:  0.0016974661879524142\n",
      "\n",
      "labels:  [0 0 0 1 1 1]\n",
      "My algorithm predictions:  [0.0018594  0.00205544 0.0022721  0.99841395 0.99996704 0.99763166]\n",
      "\n",
      "Predictions for:  [4, 1]\n",
      "0.9999999936460231\n"
     ]
    }
   ],
   "source": [
    "w_in = np.array([0.,0.])\n",
    "b_in = 0\n",
    "alpha = 0.1\n",
    "\n",
    "w,b = gradient_descent_logistic(X_train_l,y_train_l,w_in,b_in,alpha,10000)\n",
    "\n",
    "print(\"num_iters: 10000\")\n",
    "print(\"w: \",w)\n",
    "print(\"b: \", b)\n",
    "print(\"cost: \", cost_function_logistic(X_train_l,y_train_l,w,b))\n",
    "\n",
    "w,b = gradient_descent_logistic(X_train_l,y_train_l,w_in,b_in,alpha,100000)\n",
    "\n",
    "print(\"num_iters: 100000\")\n",
    "print(\"w: \",w)\n",
    "print(\"b: \", b)\n",
    "print(\"cost: \", cost_function_logistic(X_train_l,y_train_l,w,b))\n",
    "\n",
    "\n",
    "predict = sigmoid(np.dot(X_train_l,w)+b)\n",
    "\n",
    "print(\"\\nlabels: \", y_train_l)\n",
    "print(\"My algorithm predictions: \", predict)\n",
    "\n",
    "N = [4,1]\n",
    "print(\"\\nPredictions for: \", N)\n",
    "print(sigmoid(np.dot(N,w)+b))\n"
   ]
  },
  {
   "cell_type": "code",
   "execution_count": 401,
   "id": "02488ae3",
   "metadata": {},
   "outputs": [
    {
     "data": {
      "image/png": "[encoded data removed]",
      "text/plain": [
       "<Figure size 640x480 with 1 Axes>"
      ]
     },
     "metadata": {},
     "output_type": "display_data"
    }
   ],
   "source": [
    "x1 = np.array([[i*0.1,i*0.2] for i in range(30)])\n",
    "\n",
    "plt.plot(x1, sigmoid(np.dot(x1,w)+b))\n",
    "plt.show()"
   ]
  },
  {
   "cell_type": "code",
   "execution_count": null,
   "id": "997fcbfd",
   "metadata": {},
   "outputs": [],
   "source": []
  }
 ],
 "metadata": {
  "kernelspec": {
   "display_name": "Python 3 (ipykernel)",
   "language": "python",
   "name": "python3"
  },
  "language_info": {
   "codemirror_mode": {
    "name": "ipython",
    "version": 3
   },
   "file_extension": ".py",
   "mimetype": "text/x-python",
   "name": "python",
   "nbconvert_exporter": "python",
   "pygments_lexer": "ipython3",
   "version": "3.11.5"
  }
 },
 "nbformat": 4,
 "nbformat_minor": 5
}
